{
  "nbformat": 4,
  "nbformat_minor": 0,
  "metadata": {
    "colab": {
      "provenance": [],
      "mount_file_id": "1SypAV5ROYpw9KzoVHnYulkUAjfWvL-dr",
      "authorship_tag": "ABX9TyMAONLxPktnY56gf+6NgVO+",
      "include_colab_link": true
    },
    "kernelspec": {
      "name": "python3",
      "display_name": "Python 3"
    },
    "language_info": {
      "name": "python"
    }
  },
  "cells": [
    {
      "cell_type": "markdown",
      "metadata": {
        "id": "view-in-github",
        "colab_type": "text"
      },
      "source": [
        "<a href=\"https://colab.research.google.com/github/hasan-rakibul/AI-cybersec/blob/main/Lab%209/lab_9.ipynb\" target=\"_parent\"><img src=\"https://colab.research.google.com/assets/colab-badge.svg\" alt=\"Open In Colab\"/></a>"
      ]
    },
    {
      "cell_type": "markdown",
      "source": [
        "# AI-driven anomaly detection: leveraging LSTM forecasting technique\n",
        "Forecasting is a technique used to predict future trends based on historical data. In the context of cybersecurity, forecasting can be used to identify patterns and anomalies that may indicate a potential security threat. By analysing patterns in data over time, forecasting algorithms can help detect anomalies in real-time, allowing organisations to proactively respond to potential security incidents before they become major issues.\n",
        "\n",
        "In this lab, we will use Long Short-Term Memory (LSTM) forecasting algorithm. LSTM is a type of recurrent neural network architecture that is commonly used in deep learning applications. It is designed to handle sequential data and is particularly well-suited for time-series prediction tasks.\n",
        "\n",
        "One of the main advantages of LSTM is its ability to remember information for extended periods of time, which is important for tasks that require long-term dependencies. This is achieved through the use of gates that regulate the flow of information within the network."
      ],
      "metadata": {
        "id": "5cmDSRKFIe99"
      }
    },
    {
      "cell_type": "markdown",
      "source": [
        "**Reference book:** Chio, C., & Freeman, D. (2018). *Machine learning and security: Protecting systems with data and algorithms* (First edition). O’Reilly Media. (page 102)\n",
        "\n",
        "**Reference programs:** https://github.com/oreilly-mlsec/book-resources/blob/master/chapter3/lstm-anomaly-detection.ipynb (Modified and bug fixed)"
      ],
      "metadata": {
        "id": "pIniFyIAJ3zl"
      }
    },
    {
      "cell_type": "code",
      "source": [
        "import numpy as np\n",
        "import pandas as pd\n",
        "from datetime import datetime\n",
        "import matplotlib.pyplot as plt\n",
        "import time\n",
        "\n",
        "import tensorflow as tf\n",
        "from tensorflow.keras.layers import LSTM, Dropout, Dense"
      ],
      "metadata": {
        "id": "ciPWmYQ-J1Nd"
      },
      "execution_count": null,
      "outputs": []
    },
    {
      "cell_type": "markdown",
      "source": [
        "## Dataset\n",
        "\n",
        "You can find the datasets at [https://github.com/oreilly-mlsec/book-resources/tree/master/chapter3/datasets/cpu-utilization](https://github.com/oreilly-mlsec/book-resources/tree/master/chapter3/datasets/cpu-utilization)\n",
        "\n",
        "Download the datasets (`cpu-full-a.csv`, `cpu-full-b.csv`), and keep them in your Google Drive folder (e.g., `Colab Notebooks/AICS/` folder)\n",
        "\n",
        "Mount your Google Drive from the \"Files\" menu."
      ],
      "metadata": {
        "id": "WNokkwrZNQ60"
      }
    },
    {
      "cell_type": "code",
      "source": [
        "DATA = pd.read_csv(\n",
        "      '/content/drive/MyDrive/Colab Notebooks/AICS/cpu-full-b.csv'\n",
        ")\n",
        "print(DATA.head(5))"
      ],
      "metadata": {
        "colab": {
          "base_uri": "https://localhost:8080/"
        },
        "id": "5LGezgXMkHn5",
        "outputId": "244fefab-7a02-403d-87a2-b1cc6368be24"
      },
      "execution_count": null,
      "outputs": [
        {
          "output_type": "stream",
          "name": "stdout",
          "text": [
            "              datetime   cpu\n",
            "0  2017-01-27 18:42:00  1.14\n",
            "1  2017-01-27 18:43:00  1.10\n",
            "2  2017-01-27 18:44:00  1.09\n",
            "3  2017-01-27 18:45:00  1.08\n",
            "4  2017-01-27 18:46:00  1.08\n"
          ]
        }
      ]
    },
    {
      "cell_type": "code",
      "source": [
        "# if pandas is older\n",
        "# DATA = pd.read_csv(\n",
        "#       '/content/drive/MyDrive/Colab Notebooks/AICS/cpu-full-b.csv',\n",
        "#       parse_dates=[0],\n",
        "#       infer_datetime_format=True\n",
        "#   )\n",
        "# print(DATA.head(5))"
      ],
      "metadata": {
        "id": "LfybaXOjn3Xp"
      },
      "execution_count": null,
      "outputs": []
    },
    {
      "cell_type": "markdown",
      "source": [
        "The second and third parameters `parse_dates` and `infer_datetime_format` are used to inform pandas how to handle the date/time information in the CSV file.\n",
        "\n",
        "The `parse_dates` parameter in this case indicates that pandas should parse the first column of the CSV file as dates.\n",
        "\n",
        "The `infer_datetime_format` parameter is True, which means that pandas will attempt to infer the date/time format from the CSV file."
      ],
      "metadata": {
        "id": "AWWRsoSk00Hk"
      }
    },
    {
      "cell_type": "code",
      "source": [
        "# Each training data point will be length 100-1,\n",
        "# since the last value in each sequence is the label\n",
        "SEQUENCE_LEN = 100"
      ],
      "metadata": {
        "id": "O1hJulvebODO"
      },
      "execution_count": null,
      "outputs": []
    },
    {
      "cell_type": "markdown",
      "source": [
        "## Build the LSTM model\n",
        "### Supplementary reading material\n",
        "- [Understanding LSTM Networks](https://colah.github.io/posts/2015-08-Understanding-LSTMs/)\n",
        "- [Dropout: A Simple Way to Prevent Neural Networks from\n",
        "Overfitting](https://www.cs.toronto.edu/~rsalakhu/papers/srivastava14a.pdf)"
      ],
      "metadata": {
        "id": "YdZfvLYO7L2L"
      }
    },
    {
      "cell_type": "code",
      "source": [
        "def generate_model():\n",
        "  model = tf.keras.Sequential()\n",
        "\n",
        "  # First LSTM layer defining the input sequence length\n",
        "  model.add(\n",
        "      LSTM(\n",
        "        input_shape=(SEQUENCE_LEN-1, 1),\n",
        "        units=32,\n",
        "        return_sequences=True\n",
        "      )\n",
        "    )\n",
        "\n",
        "  model.add(Dropout(0.2))\n",
        "\n",
        "  # Second LSTM layer with 128 units\n",
        "  model.add(\n",
        "      LSTM(\n",
        "        units=128,\n",
        "        return_sequences=True\n",
        "      )\n",
        "    )\n",
        "\n",
        "  model.add(Dropout(0.2))\n",
        "\n",
        "  # Third LSTM layer with 100 units\n",
        "  model.add(\n",
        "      LSTM(\n",
        "        units=100,\n",
        "        return_sequences=False  # no more sequence is required for the next layer\n",
        "      )\n",
        "    )\n",
        "\n",
        "  model.add(Dropout(0.2))\n",
        "\n",
        "  # Densely-connected output layer with Linear activation function\n",
        "  model.add(\n",
        "      Dense(\n",
        "        units=1,\n",
        "        activation='linear'\n",
        "      )\n",
        "    )\n",
        "\n",
        "  model.compile(\n",
        "      loss=tf.keras.losses.MeanSquaredError(),\n",
        "      optimizer=tf.keras.optimizers.RMSprop(learning_rate=0.001)\n",
        "  )\n",
        "\n",
        "  return model"
      ],
      "metadata": {
        "id": "uy8y-LLObN_y"
      },
      "execution_count": null,
      "outputs": []
    },
    {
      "cell_type": "markdown",
      "source": [
        "The model consists of three LSTM layers with 32, 128, and 100 units respectively, along with a densely-connected output layer with a linear activation function. The input sequence length is defined by the \"SEQUENCE_LEN\" variable minus one, and the model includes dropout regularization with a rate of 0.2 to prevent overfitting.\n",
        "\n",
        "The input shape is defined as (SEQUENCE_LEN-1, 1) in the first LSTM layer. The first dimension of the input shape (SEQUENCE_LEN-1) refers to the length of the input sequence, while the second dimension (1) refers to the number of features in each time step of the input sequence.\n",
        "\n",
        "The model is compiled using the mean squared error loss function and the RMSprop optimizer with a learning rate of 0.001."
      ],
      "metadata": {
        "id": "qQUuBZzrtxEI"
      }
    },
    {
      "cell_type": "markdown",
      "source": [
        "## Data preparation"
      ],
      "metadata": {
        "id": "of06ToWD6t7b"
      }
    },
    {
      "cell_type": "code",
      "source": [
        "def normalise(result):\n",
        "  result_mean = result.mean()\n",
        "  result_std = result.std()\n",
        "  result -= result_mean\n",
        "  result /= result_std\n",
        "  return result"
      ],
      "metadata": {
        "id": "GyawVGk1bN9I"
      },
      "execution_count": null,
      "outputs": []
    },
    {
      "cell_type": "markdown",
      "source": [
        "The function normalises the data by subtracting the mean and dividing by the standard deviation. This is a common technique used to scale and center data around zero, which can help improve the performance of machine learning models."
      ],
      "metadata": {
        "id": "EXIq6zs8vdvW"
      }
    },
    {
      "cell_type": "code",
      "source": [
        "def prepare_data(data, train_start, train_end, test_start, test_end):\n",
        "  print(\"\\nLength of Data\", len(data))\n",
        "\n",
        "  # training data\n",
        "  result = []\n",
        "  for index in range(train_start, train_end-SEQUENCE_LEN):\n",
        "    result.append(data[index: index + SEQUENCE_LEN])\n",
        "  result = np.array(result)\n",
        "  result = normalise(result)\n",
        "\n",
        "  print(\"\\nTraining data shape: \", result.shape)\n",
        "  print(\"Training data:\\n\", result)\n",
        "\n",
        "  np.random.shuffle(result)\n",
        "\n",
        "  X_train = result[:, :-1]\n",
        "  y_train = result[:, -1]\n",
        "\n",
        "  # test data\n",
        "  result = []\n",
        "  for index in range(test_start, test_end-SEQUENCE_LEN):\n",
        "    result.append(data[index: index + SEQUENCE_LEN])\n",
        "  result = np.array(result)\n",
        "  result = normalise(result)\n",
        "\n",
        "  print(\"\\nTest data shape: \", result.shape)\n",
        "  print(\"\\nTest data:\\n\", result)\n",
        "\n",
        "  X_test = result[:, :-1]\n",
        "  y_test = result[:, -1]\n",
        "\n",
        "  print(\"\\nShape X_train: \", np.shape(X_train))\n",
        "  print(\"Shape X_test: \", np.shape(X_test))\n",
        "\n",
        "  X_train = np.reshape(X_train, (X_train.shape[0], X_train.shape[1], 1))\n",
        "  X_test = np.reshape(X_test, (X_test.shape[0], X_test.shape[1], 1))\n",
        "\n",
        "  return X_train, y_train, X_test, y_test"
      ],
      "metadata": {
        "id": "vUD286pjbN6W"
      },
      "execution_count": null,
      "outputs": []
    },
    {
      "cell_type": "markdown",
      "source": [
        "The function first prints the length of the input data. It creates two sets of data: one for training and one for testing.\n",
        "\n",
        "For the training data, the function creates a list result of sequences with length SEQUENCE_LEN by iterating over the input data from train_start to train_end. The result list is then converted to a numpy array and normalised using the normalise function. It then shuffles the normalised training data and separates the input features X_train (all columns except the last) from the target values y_train (the last column).\n",
        "\n",
        "For the test data, the function follows the same procedure as for the training data, but uses the input data from test_start to test_end instead.\n",
        "\n",
        "Finally, the function reshapes the input features X_train and X_test to have an additional dimension of size 1.\n",
        "\n",
        "Reshaping is necessary here because the input data X_train and X_test need to be formatted to fit the input shape of the LSTM layers in the model. Specifically, the LSTM layers in the model expect input data in a 3D format of shape (batch_size, sequence_length, input_dim), where:\n",
        "\n",
        "- batch_size is the number of samples in each batch of data\n",
        "- sequence_length is the length of each input sequence\n",
        "- input_dim is the number of features in the input data"
      ],
      "metadata": {
        "id": "HNbbpmhcxAZN"
      }
    },
    {
      "cell_type": "markdown",
      "source": [
        "## Running the LSTM model with necessary plotting"
      ],
      "metadata": {
        "id": "U-tLgffr60Dd"
      }
    },
    {
      "cell_type": "code",
      "source": [
        "def run(model=None, data=None, epochs=3, batch_size=50):\n",
        "  global_start_time = time.time()\n",
        "\n",
        "  data = data['cpu'].to_numpy()\n",
        "\n",
        "  # train on first 700 samples and test on next 300 samples\n",
        "  X_train, y_train, X_test, y_test = prepare_data(\n",
        "      data=data,\n",
        "      train_start=0,\n",
        "      train_end=400,\n",
        "      test_start=400,\n",
        "      test_end=660\n",
        "  )\n",
        "\n",
        "  if model is None:\n",
        "    model = generate_model()\n",
        "\n",
        "  try:\n",
        "    print(\"\\nTraining...\")\n",
        "    model.fit(\n",
        "        x=X_train,\n",
        "        y=y_train,\n",
        "        batch_size=batch_size,\n",
        "        epochs=epochs,\n",
        "        validation_split=0.05\n",
        "    )\n",
        "    print(\"\\nPredicting...\")\n",
        "    predicted = model.predict(X_test)\n",
        "\n",
        "    print(\"\\nShape of raw predicted data:\", predicted.shape)\n",
        "    predicted = np.reshape(predicted, (predicted.size,))\n",
        "    print(\"Shape of reshaped predicted data:\", predicted.shape)\n",
        "\n",
        "  except KeyboardInterrupt:\n",
        "    print(\"prediction exception\")\n",
        "    print('Training duration:{}'.format(time.time()-global_start_time))\n",
        "    return model, y_test, 0\n",
        "\n",
        "  try:\n",
        "    print(\"\\n\")\n",
        "    plt.figure(figsize=(10, 8))\n",
        "    plt.plot(y_test, 'b', label='Observed')\n",
        "    plt.plot(predicted, 'g', label='Predicted')\n",
        "    plt.plot(((y_test-predicted)**2), 'r', label=\"Squared error\")\n",
        "    plt.legend()\n",
        "    plt.show()\n",
        "  except Exception as e:\n",
        "    print(\"plotting exception\")\n",
        "    print(str(e))\n",
        "\n",
        "  print('\\nTraining duration: {}'.format(time.time()-global_start_time))\n",
        "\n",
        "  return model, y_test, predicted"
      ],
      "metadata": {
        "id": "yk-8Pj6zbN3p"
      },
      "execution_count": null,
      "outputs": []
    },
    {
      "cell_type": "markdown",
      "source": [
        "By setting train_start=0 and train_end=400, the first 400 data points are used for training. Similarly, by setting test_start=400 and test_end=660, the next 260 data points are used for testing. Therefore, the model is trained on the first 400 time steps of the dataset and tested on the subsequent 260 time steps. This split ensures that the model is evaluated on unseen data and not overfitting to the training dataset.\n",
        "\n",
        "The purpose of predicted = np.reshape(predicted, (predicted.size,)) is to convert the predicted values from a two-dimensional numpy array of shape (n,1) to a one-dimensional numpy array of shape (n,), where n is the number of predicted values.\n",
        "\n",
        "In other words, the np.reshape() function is used to \"flatten\" the predicted values array, which makes it easier to perform calculations on the predicted values or to plot them against the actual values.\n",
        "\n",
        "The first plot command plots the actual values of the test dataset as a blue line with the label \"Observed\".\n",
        "\n",
        "The second plot command plots the predicted values of the test dataset as a green line with the label \"Predicted\".\n",
        "\n",
        "The third plot command plots the squared error between the predicted and actual values as a red line. ((y_test-predicted)**2) is used to calculate the squared error between the predicted and actual values."
      ],
      "metadata": {
        "id": "pT796XcG3L3x"
      }
    },
    {
      "cell_type": "code",
      "source": [
        "model, y_test, predicted = run(data=DATA)"
      ],
      "metadata": {
        "colab": {
          "base_uri": "https://localhost:8080/",
          "height": 1000
        },
        "id": "D_YFbFg7bN00",
        "outputId": "a9d68c0b-78b6-4afe-989b-d2a29e6a4090"
      },
      "execution_count": null,
      "outputs": [
        {
          "output_type": "stream",
          "name": "stdout",
          "text": [
            "\n",
            "Length of Data 660\n",
            "\n",
            "Training data shape:  (300, 100)\n",
            "Training data:\n",
            " [[-0.08360845 -0.17863064 -0.20238619 ...  2.22067983  2.43447977\n",
            "   2.60076861]\n",
            " [-0.17863064 -0.20238619 -0.22614174 ...  2.43447977  2.60076861\n",
            "   1.79307994]\n",
            " [-0.20238619 -0.22614174 -0.22614174 ...  2.60076861  1.79307994\n",
            "   1.31796896]\n",
            " ...\n",
            " [ 0.55779138  1.17543566  0.72408023 ...  2.38696867  1.88810214\n",
            "   2.19692428]\n",
            " [ 1.17543566  0.72408023  0.41525809 ...  1.88810214  2.19692428\n",
            "   3.21841289]\n",
            " [ 0.72408023  0.41525809  0.22521369 ...  2.19692428  3.21841289\n",
            "   3.26592399]]\n",
            "\n",
            "Test data shape:  (160, 100)\n",
            "\n",
            "Test data:\n",
            " [[ 1.65059432  1.76888841  1.11827094 ... -0.85329712 -0.83358144\n",
            "  -0.675856  ]\n",
            " [ 1.76888841  1.11827094  0.80282005 ... -0.83358144 -0.675856\n",
            "  -0.675856  ]\n",
            " [ 1.11827094  0.80282005  1.39429047 ... -0.675856   -0.675856\n",
            "  -0.65614032]\n",
            " ...\n",
            " [ 0.94082982  0.78310437  0.50708484 ...  2.24206474  2.34064315\n",
            "   1.70974136]\n",
            " [ 0.78310437  0.50708484  0.36907508 ...  2.34064315  1.70974136\n",
            "   1.4731532 ]\n",
            " [ 0.50708484  0.36907508  0.29021236 ...  1.70974136  1.4731532\n",
            "   1.59144728]]\n",
            "\n",
            "Shape X_train:  (300, 99)\n",
            "Shape X_test:  (160, 99)\n",
            "\n",
            "Training...\n",
            "Epoch 1/3\n",
            "6/6 [==============================] - 8s 563ms/step - loss: 0.6721 - val_loss: 0.1270\n",
            "Epoch 2/3\n",
            "6/6 [==============================] - 3s 567ms/step - loss: 0.3634 - val_loss: 0.2677\n",
            "Epoch 3/3\n",
            "6/6 [==============================] - 2s 379ms/step - loss: 0.3325 - val_loss: 0.1726\n",
            "\n",
            "Predicting...\n",
            "5/5 [==============================] - 1s 77ms/step\n",
            "\n",
            "Shape of raw predicted data: (160, 1)\n",
            "Shape of reshaped predicted data: (160,)\n",
            "\n",
            "\n"
          ]
        },
        {
          "output_type": "display_data",
          "data": {
            "text/plain": [
              "<Figure size 1000x800 with 1 Axes>"
            ],
            "image/png": "[encoded data removed]"
          },
          "metadata": {}
        },
        {
          "output_type": "stream",
          "name": "stdout",
          "text": [
            "\n",
            "Training duration: 16.68930459022522\n"
          ]
        }
      ]
    },
    {
      "cell_type": "markdown",
      "source": [
        "## Practice task\n",
        "1. Change the `train_start`, `train_end`, `test_start`, and `test_end` parameters in the run function and observe how the generated graph changes in terms of anomaly detection. Try to increase the training data and decrease the test data or vice versa. Comment on how the changes affect the model's ability to detect anomalies.\n",
        "\n",
        "2. Load the `cpu-full-a.csv` dataset and analyse the dataset to detect anomalies. Experiment with different hyperparameters to achieve better results. Finally, visualise the predictions and the actual data to understand how the model is performing."
      ],
      "metadata": {
        "id": "hTT2Bo5S-VkF"
      }
    }
  ]
}