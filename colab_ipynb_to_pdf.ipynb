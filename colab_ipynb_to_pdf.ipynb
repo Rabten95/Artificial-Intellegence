{
  "nbformat": 4,
  "nbformat_minor": 0,
  "metadata": {
    "colab": {
      "provenance": [],
      "authorship_tag": "ABX9TyNVAKl5oBCCzlfQpObzG2FN",
      "include_colab_link": true
    },
    "kernelspec": {
      "name": "python3",
      "display_name": "Python 3"
    },
    "language_info": {
      "name": "python"
    }
  },
  "cells": [
    {
      "cell_type": "markdown",
      "metadata": {
        "id": "view-in-github",
        "colab_type": "text"
      },
      "source": [
        "<a href=\"https://colab.research.google.com/github/mrh-rakib/AI-cybersec/blob/main/colab_ipynb_to_pdf.ipynb\" target=\"_parent\"><img src=\"https://colab.research.google.com/assets/colab-badge.svg\" alt=\"Open In Colab\"/></a>"
      ]
    },
    {
      "cell_type": "code",
      "execution_count": null,
      "metadata": {
        "colab": {
          "base_uri": "https://localhost:8080/"
        },
        "id": "fqorx6tSzA7P",
        "outputId": "9dac4549-34ec-466c-e538-a3bfdfc6d186"
      },
      "outputs": [
        {
          "output_type": "stream",
          "name": "stdout",
          "text": [
            "Mounted at /content/gdrive\n"
          ]
        }
      ],
      "source": [
        "from google.colab import drive\n",
        "drive.mount('/content/gdrive')"
      ]
    },
    {
      "cell_type": "code",
      "source": [
        "file_name = \"lab_5\""
      ],
      "metadata": {
        "id": "uXE7htHFDzGA"
      },
      "execution_count": 74,
      "outputs": []
    },
    {
      "cell_type": "code",
      "source": [
        "# change the input and output file names\n",
        "input_file = \"/content/gdrive/MyDrive/Colab\\ Notebooks/\"+file_name+\".ipynb\"\n",
        "output_file = \"ICT607-\"+file_name+\".pdf\""
      ],
      "metadata": {
        "id": "vFeVyibgzLcP"
      },
      "execution_count": 90,
      "outputs": []
    },
    {
      "cell_type": "code",
      "source": [
        "# Title in the pdf\n",
        "output_title = \"ICT607:\\ Artificial\\ Intelligence\\ for\\ Cybersecurity.ipynb\""
      ],
      "metadata": {
        "id": "1spJdWNMBv2J"
      },
      "execution_count": 91,
      "outputs": []
    },
    {
      "cell_type": "code",
      "source": [
        "# copy it to the current directory and rename it according to the pdf title I want (nbconvert will title the pdf as per filename)\n",
        "%cp $input_file $output_title"
      ],
      "metadata": {
        "id": "RBFkZUrC3jOV"
      },
      "execution_count": 92,
      "outputs": []
    },
    {
      "cell_type": "code",
      "source": [
        "!ls"
      ],
      "metadata": {
        "colab": {
          "base_uri": "https://localhost:8080/"
        },
        "id": "yCDO9NTJzjUQ",
        "outputId": "db304b67-2d8b-4f47-851f-8608a00cbded"
      },
      "execution_count": 93,
      "outputs": [
        {
          "output_type": "stream",
          "name": "stdout",
          "text": [
            " gdrive\t\t\t\t\t\t\t    sample_data\n",
            "'ICT607: Artificial Intelligence for Cybersecurity.ipynb'\n"
          ]
        }
      ]
    },
    {
      "cell_type": "code",
      "source": [
        "# necessary LaTeX backend\n",
        "# !apt-get install texlive-xetex texlive-fonts-recommended texlive-plain-generic "
      ],
      "metadata": {
        "id": "iNV9kKsczyC2"
      },
      "execution_count": 94,
      "outputs": []
    },
    {
      "cell_type": "code",
      "source": [
        "!jupyter nbconvert --to pdf $output_title --output $output_file"
      ],
      "metadata": {
        "colab": {
          "base_uri": "https://localhost:8080/"
        },
        "id": "awavMjPxzpmx",
        "outputId": "b63e3326-4d69-4c48-f26c-c926d98f8b1c"
      },
      "execution_count": 95,
      "outputs": [
        {
          "output_type": "stream",
          "name": "stdout",
          "text": [
            "[NbConvertApp] Converting notebook ICT607: Artificial Intelligence for Cybersecurity.ipynb to pdf\n",
            "[NbConvertApp] Support files will be in ICT607-lab_5_files/\n",
            "[NbConvertApp] Making directory ./ICT607-lab_5_files\n",
            "[NbConvertApp] Making directory ./ICT607-lab_5_files\n",
            "[NbConvertApp] Making directory ./ICT607-lab_5_files\n",
            "[NbConvertApp] Making directory ./ICT607-lab_5_files\n",
            "[NbConvertApp] Writing 90318 bytes to notebook.tex\n",
            "[NbConvertApp] Building PDF\n",
            "[NbConvertApp] Running xelatex 3 times: ['xelatex', 'notebook.tex', '-quiet']\n",
            "[NbConvertApp] Running bibtex 1 time: ['bibtex', 'notebook']\n",
            "[NbConvertApp] WARNING | bibtex had problems, most likely because there were no citations\n",
            "[NbConvertApp] PDF successfully created\n",
            "[NbConvertApp] Writing 193104 bytes to ICT607-lab_5.pdf\n"
          ]
        }
      ]
    },
    {
      "cell_type": "code",
      "source": [
        "# Delete after downloading\n",
        "!rm $output_title $output_file"
      ],
      "metadata": {
        "id": "6s_lVDE56FyE"
      },
      "execution_count": 96,
      "outputs": []
    }
  ]
}