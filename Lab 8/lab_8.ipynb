{
  "nbformat": 4,
  "nbformat_minor": 0,
  "metadata": {
    "colab": {
      "provenance": [],
      "authorship_tag": "ABX9TyOS9ODmNNmWX+H5J42fupya",
      "include_colab_link": true
    },
    "kernelspec": {
      "name": "python3",
      "display_name": "Python 3"
    },
    "language_info": {
      "name": "python"
    }
  },
  "cells": [
    {
      "cell_type": "markdown",
      "metadata": {
        "id": "view-in-github",
        "colab_type": "text"
      },
      "source": [
        "<a href=\"https://colab.research.google.com/github/hasan-rakibul/AI-cybersec/blob/main/Lab%208/lab_8.ipynb\" target=\"_parent\"><img src=\"https://colab.research.google.com/assets/colab-badge.svg\" alt=\"Open In Colab\"/></a>"
      ]
    },
    {
      "cell_type": "markdown",
      "source": [
        "# Automated fraud detection for improved transaction security\n",
        "In this experiment, we will use a transaction data for online purchases collected from an ecommerce retailer. The dataset contains 39,221 transactions, each comprising 5 properties that can be used to describe the transaction, as well as a binary “label” indicating whether this transaction is an instance of fraud—“1” if fraudulent, and “0” if not."
      ],
      "metadata": {
        "id": "5cmDSRKFIe99"
      }
    },
    {
      "cell_type": "markdown",
      "source": [
        "**Reference book:** Chio, C., & Freeman, D. (2018). *Machine learning and security: Protecting systems with data and algorithms* (First edition). O’Reilly Media. (page 27)\n",
        "\n",
        "**Reference programs:** https://github.com/oreilly-mlsec/book-resources/blob/master/chapter2/logistic-regression-fraud-detection.ipynb"
      ],
      "metadata": {
        "id": "pIniFyIAJ3zl"
      }
    },
    {
      "cell_type": "code",
      "source": [
        "import pandas as pd\n",
        "from sklearn.model_selection import train_test_split\n",
        "from sklearn.linear_model import LogisticRegression\n",
        "from sklearn.metrics import accuracy_score, confusion_matrix"
      ],
      "metadata": {
        "id": "ciPWmYQ-J1Nd"
      },
      "execution_count": 1,
      "outputs": []
    },
    {
      "cell_type": "markdown",
      "source": [
        "## Dataset\n",
        "\n",
        "Download the dataset and keep it on your Google drive folder (e.g., `Colab Notebooks/AICS/` folder)"
      ],
      "metadata": {
        "id": "WNokkwrZNQ60"
      }
    },
    {
      "cell_type": "code",
      "source": [
        "from google.colab import drive\n",
        "drive.mount(\"/content/drive\")"
      ],
      "metadata": {
        "colab": {
          "base_uri": "https://localhost:8080/"
        },
        "id": "zjcDtQBlNCcq",
        "outputId": "23af1537-1405-4ded-ac06-088223035e16"
      },
      "execution_count": 2,
      "outputs": [
        {
          "output_type": "stream",
          "name": "stdout",
          "text": [
            "Drive already mounted at /content/drive; to attempt to forcibly remount, call drive.mount(\"/content/drive\", force_remount=True).\n"
          ]
        }
      ]
    },
    {
      "cell_type": "code",
      "source": [
        "# Read in the data from the CSV file\n",
        "transaction_df = pd.read_csv('/content/drive/MyDrive/Colab Notebooks/AICS/payment_fraud.csv')"
      ],
      "metadata": {
        "id": "W_orbOd4KMd6"
      },
      "execution_count": 3,
      "outputs": []
    },
    {
      "cell_type": "markdown",
      "source": [
        "The above line reads in data from a CSV (Comma Separated Values) file and assigns it to a Pandas DataFrame object named \"transaction_df\".\n",
        "\n",
        "- `pd`: This is a reference to the Pandas library, which is commonly used for data manipulation and analysis in Python.\n",
        "- `read_csv()`: This is a function in Pandas that reads a CSV file and creates a DataFrame object from it. The path to the CSV file is passed as an argument to this function.\n",
        "- `/content/drive/MyDrive/Colab Notebooks/AICS/payment_fraud.csv`: This is the path to the CSV file that is being read in. It is a string that specifies the file location on the system.\n",
        "- `transaction_df`: This is the name given to the DataFrame object that is created from the CSV file."
      ],
      "metadata": {
        "id": "-nLsTsBu7jbN"
      }
    },
    {
      "cell_type": "code",
      "source": [
        "transaction_df.sample(10)"
      ],
      "metadata": {
        "colab": {
          "base_uri": "https://localhost:8080/",
          "height": 363
        },
        "id": "fbZUFuCsKP_S",
        "outputId": "32d7fe53-858a-4ee5-fe7d-b92a8600cc8d"
      },
      "execution_count": 4,
      "outputs": [
        {
          "output_type": "execute_result",
          "data": {
            "text/plain": [
              "       accountAgeDays  numItems  localTime paymentMethod  \\\n",
              "25873              62         1   4.836982        paypal   \n",
              "16115             215         1   4.742303    creditcard   \n",
              "30358            2000         1   4.886641    creditcard   \n",
              "30368              93         1   4.876771    creditcard   \n",
              "15696            1493         1   4.886641    creditcard   \n",
              "18274             964         1   4.921318    creditcard   \n",
              "36688              14         1   4.876771    creditcard   \n",
              "30514            1272         1   4.836982    creditcard   \n",
              "37291               1         1   4.742303        paypal   \n",
              "33401            2000         1   4.965339    creditcard   \n",
              "\n",
              "       paymentMethodAgeDays  label  \n",
              "25873              0.000694      0  \n",
              "16115            214.511806      0  \n",
              "30358              0.000000      0  \n",
              "30368              0.000000      0  \n",
              "15696              0.000000      0  \n",
              "18274            140.961111      0  \n",
              "36688              0.000000      0  \n",
              "30514              0.000000      0  \n",
              "37291              0.000000      1  \n",
              "33401              0.001389      0  "
            ],
            "text/html": [
              "\n",
              "  <div id=\"df-61bd3820-5776-4d87-9a21-018518d0ccdf\">\n",
              "    <div class=\"colab-df-container\">\n",
              "      <div>\n",
              "<style scoped>\n",
              "    .dataframe tbody tr th:only-of-type {\n",
              "        vertical-align: middle;\n",
              "    }\n",
              "\n",
              "    .dataframe tbody tr th {\n",
              "        vertical-align: top;\n",
              "    }\n",
              "\n",
              "    .dataframe thead th {\n",
              "        text-align: right;\n",
              "    }\n",
              "</style>\n",
              "<table border=\"1\" class=\"dataframe\">\n",
              "  <thead>\n",
              "    <tr style=\"text-align: right;\">\n",
              "      <th></th>\n",
              "      <th>accountAgeDays</th>\n",
              "      <th>numItems</th>\n",
              "      <th>localTime</th>\n",
              "      <th>paymentMethod</th>\n",
              "      <th>paymentMethodAgeDays</th>\n",
              "      <th>label</th>\n",
              "    </tr>\n",
              "  </thead>\n",
              "  <tbody>\n",
              "    <tr>\n",
              "      <th>25873</th>\n",
              "      <td>62</td>\n",
              "      <td>1</td>\n",
              "      <td>4.836982</td>\n",
              "      <td>paypal</td>\n",
              "      <td>0.000694</td>\n",
              "      <td>0</td>\n",
              "    </tr>\n",
              "    <tr>\n",
              "      <th>16115</th>\n",
              "      <td>215</td>\n",
              "      <td>1</td>\n",
              "      <td>4.742303</td>\n",
              "      <td>creditcard</td>\n",
              "      <td>214.511806</td>\n",
              "      <td>0</td>\n",
              "    </tr>\n",
              "    <tr>\n",
              "      <th>30358</th>\n",
              "      <td>2000</td>\n",
              "      <td>1</td>\n",
              "      <td>4.886641</td>\n",
              "      <td>creditcard</td>\n",
              "      <td>0.000000</td>\n",
              "      <td>0</td>\n",
              "    </tr>\n",
              "    <tr>\n",
              "      <th>30368</th>\n",
              "      <td>93</td>\n",
              "      <td>1</td>\n",
              "      <td>4.876771</td>\n",
              "      <td>creditcard</td>\n",
              "      <td>0.000000</td>\n",
              "      <td>0</td>\n",
              "    </tr>\n",
              "    <tr>\n",
              "      <th>15696</th>\n",
              "      <td>1493</td>\n",
              "      <td>1</td>\n",
              "      <td>4.886641</td>\n",
              "      <td>creditcard</td>\n",
              "      <td>0.000000</td>\n",
              "      <td>0</td>\n",
              "    </tr>\n",
              "    <tr>\n",
              "      <th>18274</th>\n",
              "      <td>964</td>\n",
              "      <td>1</td>\n",
              "      <td>4.921318</td>\n",
              "      <td>creditcard</td>\n",
              "      <td>140.961111</td>\n",
              "      <td>0</td>\n",
              "    </tr>\n",
              "    <tr>\n",
              "      <th>36688</th>\n",
              "      <td>14</td>\n",
              "      <td>1</td>\n",
              "      <td>4.876771</td>\n",
              "      <td>creditcard</td>\n",
              "      <td>0.000000</td>\n",
              "      <td>0</td>\n",
              "    </tr>\n",
              "    <tr>\n",
              "      <th>30514</th>\n",
              "      <td>1272</td>\n",
              "      <td>1</td>\n",
              "      <td>4.836982</td>\n",
              "      <td>creditcard</td>\n",
              "      <td>0.000000</td>\n",
              "      <td>0</td>\n",
              "    </tr>\n",
              "    <tr>\n",
              "      <th>37291</th>\n",
              "      <td>1</td>\n",
              "      <td>1</td>\n",
              "      <td>4.742303</td>\n",
              "      <td>paypal</td>\n",
              "      <td>0.000000</td>\n",
              "      <td>1</td>\n",
              "    </tr>\n",
              "    <tr>\n",
              "      <th>33401</th>\n",
              "      <td>2000</td>\n",
              "      <td>1</td>\n",
              "      <td>4.965339</td>\n",
              "      <td>creditcard</td>\n",
              "      <td>0.001389</td>\n",
              "      <td>0</td>\n",
              "    </tr>\n",
              "  </tbody>\n",
              "</table>\n",
              "</div>\n",
              "      <button class=\"colab-df-convert\" onclick=\"convertToInteractive('df-61bd3820-5776-4d87-9a21-018518d0ccdf')\"\n",
              "              title=\"Convert this dataframe to an interactive table.\"\n",
              "              style=\"display:none;\">\n",
              "        \n",
              "  <svg xmlns=\"http://www.w3.org/2000/svg\" height=\"24px\"viewBox=\"0 0 24 24\"\n",
              "       width=\"24px\">\n",
              "    <path d=\"M0 0h24v24H0V0z\" fill=\"none\"/>\n",
              "    <path d=\"M18.56 5.44l.94 2.06.94-2.06 2.06-.94-2.06-.94-.94-2.06-.94 2.06-2.06.94zm-11 1L8.5 8.5l.94-2.06 2.06-.94-2.06-.94L8.5 2.5l-.94 2.06-2.06.94zm10 10l.94 2.06.94-2.06 2.06-.94-2.06-.94-.94-2.06-.94 2.06-2.06.94z\"/><path d=\"M17.41 7.96l-1.37-1.37c-.4-.4-.92-.59-1.43-.59-.52 0-1.04.2-1.43.59L10.3 9.45l-7.72 7.72c-.78.78-.78 2.05 0 2.83L4 21.41c.39.39.9.59 1.41.59.51 0 1.02-.2 1.41-.59l7.78-7.78 2.81-2.81c.8-.78.8-2.07 0-2.86zM5.41 20L4 18.59l7.72-7.72 1.47 1.35L5.41 20z\"/>\n",
              "  </svg>\n",
              "      </button>\n",
              "      \n",
              "  <style>\n",
              "    .colab-df-container {\n",
              "      display:flex;\n",
              "      flex-wrap:wrap;\n",
              "      gap: 12px;\n",
              "    }\n",
              "\n",
              "    .colab-df-convert {\n",
              "      background-color: #E8F0FE;\n",
              "      border: none;\n",
              "      border-radius: 50%;\n",
              "      cursor: pointer;\n",
              "      display: none;\n",
              "      fill: #1967D2;\n",
              "      height: 32px;\n",
              "      padding: 0 0 0 0;\n",
              "      width: 32px;\n",
              "    }\n",
              "\n",
              "    .colab-df-convert:hover {\n",
              "      background-color: #E2EBFA;\n",
              "      box-shadow: 0px 1px 2px rgba(60, 64, 67, 0.3), 0px 1px 3px 1px rgba(60, 64, 67, 0.15);\n",
              "      fill: #174EA6;\n",
              "    }\n",
              "\n",
              "    [theme=dark] .colab-df-convert {\n",
              "      background-color: #3B4455;\n",
              "      fill: #D2E3FC;\n",
              "    }\n",
              "\n",
              "    [theme=dark] .colab-df-convert:hover {\n",
              "      background-color: #434B5C;\n",
              "      box-shadow: 0px 1px 3px 1px rgba(0, 0, 0, 0.15);\n",
              "      filter: drop-shadow(0px 1px 2px rgba(0, 0, 0, 0.3));\n",
              "      fill: #FFFFFF;\n",
              "    }\n",
              "  </style>\n",
              "\n",
              "      <script>\n",
              "        const buttonEl =\n",
              "          document.querySelector('#df-61bd3820-5776-4d87-9a21-018518d0ccdf button.colab-df-convert');\n",
              "        buttonEl.style.display =\n",
              "          google.colab.kernel.accessAllowed ? 'block' : 'none';\n",
              "\n",
              "        async function convertToInteractive(key) {\n",
              "          const element = document.querySelector('#df-61bd3820-5776-4d87-9a21-018518d0ccdf');\n",
              "          const dataTable =\n",
              "            await google.colab.kernel.invokeFunction('convertToInteractive',\n",
              "                                                     [key], {});\n",
              "          if (!dataTable) return;\n",
              "\n",
              "          const docLinkHtml = 'Like what you see? Visit the ' +\n",
              "            '<a target=\"_blank\" href=https://colab.research.google.com/notebooks/data_table.ipynb>data table notebook</a>'\n",
              "            + ' to learn more about interactive tables.';\n",
              "          element.innerHTML = '';\n",
              "          dataTable['output_type'] = 'display_data';\n",
              "          await google.colab.output.renderOutput(dataTable, element);\n",
              "          const docLink = document.createElement('div');\n",
              "          docLink.innerHTML = docLinkHtml;\n",
              "          element.appendChild(docLink);\n",
              "        }\n",
              "      </script>\n",
              "    </div>\n",
              "  </div>\n",
              "  "
            ]
          },
          "metadata": {},
          "execution_count": 4
        }
      ]
    },
    {
      "cell_type": "markdown",
      "source": [
        "- `sample(10)`: This is a method in Pandas that returns a random sample of n rows from a DataFrame. In this case, the \"sample()\" method is called on the DataFrame object and 10 rows are selected randomly and printed to the console."
      ],
      "metadata": {
        "id": "8zNwuVjR8152"
      }
    },
    {
      "cell_type": "code",
      "source": [
        "transaction_df.head(1)"
      ],
      "metadata": {
        "colab": {
          "base_uri": "https://localhost:8080/",
          "height": 81
        },
        "id": "5lc5Ng1-6V4l",
        "outputId": "d55a74b0-858d-4262-ad40-bdfd51aca10e"
      },
      "execution_count": 5,
      "outputs": [
        {
          "output_type": "execute_result",
          "data": {
            "text/plain": [
              "   accountAgeDays  numItems  localTime paymentMethod  paymentMethodAgeDays  \\\n",
              "0              29         1   4.745402        paypal             28.204861   \n",
              "\n",
              "   label  \n",
              "0      0  "
            ],
            "text/html": [
              "\n",
              "  <div id=\"df-f1b9f2bb-3354-4663-881b-868113f73116\">\n",
              "    <div class=\"colab-df-container\">\n",
              "      <div>\n",
              "<style scoped>\n",
              "    .dataframe tbody tr th:only-of-type {\n",
              "        vertical-align: middle;\n",
              "    }\n",
              "\n",
              "    .dataframe tbody tr th {\n",
              "        vertical-align: top;\n",
              "    }\n",
              "\n",
              "    .dataframe thead th {\n",
              "        text-align: right;\n",
              "    }\n",
              "</style>\n",
              "<table border=\"1\" class=\"dataframe\">\n",
              "  <thead>\n",
              "    <tr style=\"text-align: right;\">\n",
              "      <th></th>\n",
              "      <th>accountAgeDays</th>\n",
              "      <th>numItems</th>\n",
              "      <th>localTime</th>\n",
              "      <th>paymentMethod</th>\n",
              "      <th>paymentMethodAgeDays</th>\n",
              "      <th>label</th>\n",
              "    </tr>\n",
              "  </thead>\n",
              "  <tbody>\n",
              "    <tr>\n",
              "      <th>0</th>\n",
              "      <td>29</td>\n",
              "      <td>1</td>\n",
              "      <td>4.745402</td>\n",
              "      <td>paypal</td>\n",
              "      <td>28.204861</td>\n",
              "      <td>0</td>\n",
              "    </tr>\n",
              "  </tbody>\n",
              "</table>\n",
              "</div>\n",
              "      <button class=\"colab-df-convert\" onclick=\"convertToInteractive('df-f1b9f2bb-3354-4663-881b-868113f73116')\"\n",
              "              title=\"Convert this dataframe to an interactive table.\"\n",
              "              style=\"display:none;\">\n",
              "        \n",
              "  <svg xmlns=\"http://www.w3.org/2000/svg\" height=\"24px\"viewBox=\"0 0 24 24\"\n",
              "       width=\"24px\">\n",
              "    <path d=\"M0 0h24v24H0V0z\" fill=\"none\"/>\n",
              "    <path d=\"M18.56 5.44l.94 2.06.94-2.06 2.06-.94-2.06-.94-.94-2.06-.94 2.06-2.06.94zm-11 1L8.5 8.5l.94-2.06 2.06-.94-2.06-.94L8.5 2.5l-.94 2.06-2.06.94zm10 10l.94 2.06.94-2.06 2.06-.94-2.06-.94-.94-2.06-.94 2.06-2.06.94z\"/><path d=\"M17.41 7.96l-1.37-1.37c-.4-.4-.92-.59-1.43-.59-.52 0-1.04.2-1.43.59L10.3 9.45l-7.72 7.72c-.78.78-.78 2.05 0 2.83L4 21.41c.39.39.9.59 1.41.59.51 0 1.02-.2 1.41-.59l7.78-7.78 2.81-2.81c.8-.78.8-2.07 0-2.86zM5.41 20L4 18.59l7.72-7.72 1.47 1.35L5.41 20z\"/>\n",
              "  </svg>\n",
              "      </button>\n",
              "      \n",
              "  <style>\n",
              "    .colab-df-container {\n",
              "      display:flex;\n",
              "      flex-wrap:wrap;\n",
              "      gap: 12px;\n",
              "    }\n",
              "\n",
              "    .colab-df-convert {\n",
              "      background-color: #E8F0FE;\n",
              "      border: none;\n",
              "      border-radius: 50%;\n",
              "      cursor: pointer;\n",
              "      display: none;\n",
              "      fill: #1967D2;\n",
              "      height: 32px;\n",
              "      padding: 0 0 0 0;\n",
              "      width: 32px;\n",
              "    }\n",
              "\n",
              "    .colab-df-convert:hover {\n",
              "      background-color: #E2EBFA;\n",
              "      box-shadow: 0px 1px 2px rgba(60, 64, 67, 0.3), 0px 1px 3px 1px rgba(60, 64, 67, 0.15);\n",
              "      fill: #174EA6;\n",
              "    }\n",
              "\n",
              "    [theme=dark] .colab-df-convert {\n",
              "      background-color: #3B4455;\n",
              "      fill: #D2E3FC;\n",
              "    }\n",
              "\n",
              "    [theme=dark] .colab-df-convert:hover {\n",
              "      background-color: #434B5C;\n",
              "      box-shadow: 0px 1px 3px 1px rgba(0, 0, 0, 0.15);\n",
              "      filter: drop-shadow(0px 1px 2px rgba(0, 0, 0, 0.3));\n",
              "      fill: #FFFFFF;\n",
              "    }\n",
              "  </style>\n",
              "\n",
              "      <script>\n",
              "        const buttonEl =\n",
              "          document.querySelector('#df-f1b9f2bb-3354-4663-881b-868113f73116 button.colab-df-convert');\n",
              "        buttonEl.style.display =\n",
              "          google.colab.kernel.accessAllowed ? 'block' : 'none';\n",
              "\n",
              "        async function convertToInteractive(key) {\n",
              "          const element = document.querySelector('#df-f1b9f2bb-3354-4663-881b-868113f73116');\n",
              "          const dataTable =\n",
              "            await google.colab.kernel.invokeFunction('convertToInteractive',\n",
              "                                                     [key], {});\n",
              "          if (!dataTable) return;\n",
              "\n",
              "          const docLinkHtml = 'Like what you see? Visit the ' +\n",
              "            '<a target=\"_blank\" href=https://colab.research.google.com/notebooks/data_table.ipynb>data table notebook</a>'\n",
              "            + ' to learn more about interactive tables.';\n",
              "          element.innerHTML = '';\n",
              "          dataTable['output_type'] = 'display_data';\n",
              "          await google.colab.output.renderOutput(dataTable, element);\n",
              "          const docLink = document.createElement('div');\n",
              "          docLink.innerHTML = docLinkHtml;\n",
              "          element.appendChild(docLink);\n",
              "        }\n",
              "      </script>\n",
              "    </div>\n",
              "  </div>\n",
              "  "
            ]
          },
          "metadata": {},
          "execution_count": 5
        }
      ]
    },
    {
      "cell_type": "markdown",
      "source": [
        "- `head(1)`: This is a method in Pandas that returns the first n rows of a DataFrame object. In this case, we're asking for the first row only, so we pass the argument \"1\" to the \"head()\" method.\n",
        "\n",
        "We see that this transaction was made through a user account that was created 29 days ago (accountAgeDays), and that the user purchased 1 item (numItems) at around 4:45 AM in the consumer’s local time (localTime). Payment was made through paypal (paymentMethod), and this method of payment was added about 28 days before the transaction (paymentMethodAgeDays). The label is 0, which indicates that this transaction is not fraudulent."
      ],
      "metadata": {
        "id": "rjzeeU7K6Zel"
      }
    },
    {
      "cell_type": "code",
      "source": [
        "# Convert categorical feature into dummy variables with one-hot encoding\n",
        "transaction_df = pd.get_dummies(transaction_df, columns=['paymentMethod'])\n",
        "transaction_df.sample(3)"
      ],
      "metadata": {
        "colab": {
          "base_uri": "https://localhost:8080/",
          "height": 143
        },
        "id": "WE60CW15KQ1S",
        "outputId": "bd340db0-3481-4330-910b-f92c44bec255"
      },
      "execution_count": 6,
      "outputs": [
        {
          "output_type": "execute_result",
          "data": {
            "text/plain": [
              "       accountAgeDays  numItems  localTime  paymentMethodAgeDays  label  \\\n",
              "36736            1987         1   5.017904             81.483333      0   \n",
              "7427             1588         1   4.836982              0.000000      0   \n",
              "37354            2000         1   4.748314              0.000000      0   \n",
              "\n",
              "       paymentMethod_creditcard  paymentMethod_paypal  \\\n",
              "36736                         0                     1   \n",
              "7427                          1                     0   \n",
              "37354                         1                     0   \n",
              "\n",
              "       paymentMethod_storecredit  \n",
              "36736                          0  \n",
              "7427                           0  \n",
              "37354                          0  "
            ],
            "text/html": [
              "\n",
              "  <div id=\"df-0be941e3-3269-4c55-b017-6553a0365735\">\n",
              "    <div class=\"colab-df-container\">\n",
              "      <div>\n",
              "<style scoped>\n",
              "    .dataframe tbody tr th:only-of-type {\n",
              "        vertical-align: middle;\n",
              "    }\n",
              "\n",
              "    .dataframe tbody tr th {\n",
              "        vertical-align: top;\n",
              "    }\n",
              "\n",
              "    .dataframe thead th {\n",
              "        text-align: right;\n",
              "    }\n",
              "</style>\n",
              "<table border=\"1\" class=\"dataframe\">\n",
              "  <thead>\n",
              "    <tr style=\"text-align: right;\">\n",
              "      <th></th>\n",
              "      <th>accountAgeDays</th>\n",
              "      <th>numItems</th>\n",
              "      <th>localTime</th>\n",
              "      <th>paymentMethodAgeDays</th>\n",
              "      <th>label</th>\n",
              "      <th>paymentMethod_creditcard</th>\n",
              "      <th>paymentMethod_paypal</th>\n",
              "      <th>paymentMethod_storecredit</th>\n",
              "    </tr>\n",
              "  </thead>\n",
              "  <tbody>\n",
              "    <tr>\n",
              "      <th>36736</th>\n",
              "      <td>1987</td>\n",
              "      <td>1</td>\n",
              "      <td>5.017904</td>\n",
              "      <td>81.483333</td>\n",
              "      <td>0</td>\n",
              "      <td>0</td>\n",
              "      <td>1</td>\n",
              "      <td>0</td>\n",
              "    </tr>\n",
              "    <tr>\n",
              "      <th>7427</th>\n",
              "      <td>1588</td>\n",
              "      <td>1</td>\n",
              "      <td>4.836982</td>\n",
              "      <td>0.000000</td>\n",
              "      <td>0</td>\n",
              "      <td>1</td>\n",
              "      <td>0</td>\n",
              "      <td>0</td>\n",
              "    </tr>\n",
              "    <tr>\n",
              "      <th>37354</th>\n",
              "      <td>2000</td>\n",
              "      <td>1</td>\n",
              "      <td>4.748314</td>\n",
              "      <td>0.000000</td>\n",
              "      <td>0</td>\n",
              "      <td>1</td>\n",
              "      <td>0</td>\n",
              "      <td>0</td>\n",
              "    </tr>\n",
              "  </tbody>\n",
              "</table>\n",
              "</div>\n",
              "      <button class=\"colab-df-convert\" onclick=\"convertToInteractive('df-0be941e3-3269-4c55-b017-6553a0365735')\"\n",
              "              title=\"Convert this dataframe to an interactive table.\"\n",
              "              style=\"display:none;\">\n",
              "        \n",
              "  <svg xmlns=\"http://www.w3.org/2000/svg\" height=\"24px\"viewBox=\"0 0 24 24\"\n",
              "       width=\"24px\">\n",
              "    <path d=\"M0 0h24v24H0V0z\" fill=\"none\"/>\n",
              "    <path d=\"M18.56 5.44l.94 2.06.94-2.06 2.06-.94-2.06-.94-.94-2.06-.94 2.06-2.06.94zm-11 1L8.5 8.5l.94-2.06 2.06-.94-2.06-.94L8.5 2.5l-.94 2.06-2.06.94zm10 10l.94 2.06.94-2.06 2.06-.94-2.06-.94-.94-2.06-.94 2.06-2.06.94z\"/><path d=\"M17.41 7.96l-1.37-1.37c-.4-.4-.92-.59-1.43-.59-.52 0-1.04.2-1.43.59L10.3 9.45l-7.72 7.72c-.78.78-.78 2.05 0 2.83L4 21.41c.39.39.9.59 1.41.59.51 0 1.02-.2 1.41-.59l7.78-7.78 2.81-2.81c.8-.78.8-2.07 0-2.86zM5.41 20L4 18.59l7.72-7.72 1.47 1.35L5.41 20z\"/>\n",
              "  </svg>\n",
              "      </button>\n",
              "      \n",
              "  <style>\n",
              "    .colab-df-container {\n",
              "      display:flex;\n",
              "      flex-wrap:wrap;\n",
              "      gap: 12px;\n",
              "    }\n",
              "\n",
              "    .colab-df-convert {\n",
              "      background-color: #E8F0FE;\n",
              "      border: none;\n",
              "      border-radius: 50%;\n",
              "      cursor: pointer;\n",
              "      display: none;\n",
              "      fill: #1967D2;\n",
              "      height: 32px;\n",
              "      padding: 0 0 0 0;\n",
              "      width: 32px;\n",
              "    }\n",
              "\n",
              "    .colab-df-convert:hover {\n",
              "      background-color: #E2EBFA;\n",
              "      box-shadow: 0px 1px 2px rgba(60, 64, 67, 0.3), 0px 1px 3px 1px rgba(60, 64, 67, 0.15);\n",
              "      fill: #174EA6;\n",
              "    }\n",
              "\n",
              "    [theme=dark] .colab-df-convert {\n",
              "      background-color: #3B4455;\n",
              "      fill: #D2E3FC;\n",
              "    }\n",
              "\n",
              "    [theme=dark] .colab-df-convert:hover {\n",
              "      background-color: #434B5C;\n",
              "      box-shadow: 0px 1px 3px 1px rgba(0, 0, 0, 0.15);\n",
              "      filter: drop-shadow(0px 1px 2px rgba(0, 0, 0, 0.3));\n",
              "      fill: #FFFFFF;\n",
              "    }\n",
              "  </style>\n",
              "\n",
              "      <script>\n",
              "        const buttonEl =\n",
              "          document.querySelector('#df-0be941e3-3269-4c55-b017-6553a0365735 button.colab-df-convert');\n",
              "        buttonEl.style.display =\n",
              "          google.colab.kernel.accessAllowed ? 'block' : 'none';\n",
              "\n",
              "        async function convertToInteractive(key) {\n",
              "          const element = document.querySelector('#df-0be941e3-3269-4c55-b017-6553a0365735');\n",
              "          const dataTable =\n",
              "            await google.colab.kernel.invokeFunction('convertToInteractive',\n",
              "                                                     [key], {});\n",
              "          if (!dataTable) return;\n",
              "\n",
              "          const docLinkHtml = 'Like what you see? Visit the ' +\n",
              "            '<a target=\"_blank\" href=https://colab.research.google.com/notebooks/data_table.ipynb>data table notebook</a>'\n",
              "            + ' to learn more about interactive tables.';\n",
              "          element.innerHTML = '';\n",
              "          dataTable['output_type'] = 'display_data';\n",
              "          await google.colab.output.renderOutput(dataTable, element);\n",
              "          const docLink = document.createElement('div');\n",
              "          docLink.innerHTML = docLinkHtml;\n",
              "          element.appendChild(docLink);\n",
              "        }\n",
              "      </script>\n",
              "    </div>\n",
              "  </div>\n",
              "  "
            ]
          },
          "metadata": {},
          "execution_count": 6
        }
      ]
    },
    {
      "cell_type": "markdown",
      "source": [
        "It converts a categorical feature in a Pandas DataFrame object named \"transaction_df\" into dummy variables using one-hot encoding. The resulting DataFrame is then assigned back to \"transaction_df\" and a random sample of 3 rows is printed to the console using the \"sample()\" method.\n",
        "\n",
        "- `get_dummies()`: This is a function in Pandas that converts categorical variables into a series of binary variables (0 or 1) using one-hot encoding. The first argument to this function is the DataFrame object that contains the categorical feature, and the second argument is a list of columns to encode. In this case, the \"paymentMethod\" column is specified for encoding.\n",
        "- `columns=['paymentMethod']`: This is a parameter of the \"get_dummies()\" function that specifies the column(s) to encode.\n",
        "- `transaction_df`: This is the name of the DataFrame object that contains the categorical feature to be encoded using one-hot encoding. This object is passed as the first argument to the \"get_dummies()\" function."
      ],
      "metadata": {
        "id": "XGGC55QW8KzM"
      }
    },
    {
      "cell_type": "code",
      "source": [
        "# Split dataset up into train and test sets\n",
        "X = transaction_df.drop('label', axis=1)\n",
        "y = transaction_df['label']\n",
        "\n",
        "X_train, X_test, y_train, y_test = train_test_split(X, y, test_size=0.33, random_state=17)"
      ],
      "metadata": {
        "id": "2Y5JLhkkKSiL"
      },
      "execution_count": 7,
      "outputs": []
    },
    {
      "cell_type": "markdown",
      "source": [
        "It splits \"transaction_df\" into training and testing sets for machine learning purposes.\n",
        "\n",
        "- `X = transaction_df.drop('label', axis=1)`: This line of code creates a new DataFrame object \"X\" that contains all the features from the \"transaction_df\" DataFrame except the 'label' column. This is done by using the \"drop()\" method on the \"transaction_df\" DataFrame and specifying the 'label' column to be dropped along the axis=1 (columns) dimension.\n",
        "- `y = transaction_df['label']`: This line of code creates a new Pandas Series object \"y\" that contains the values of the 'label' column from the \"transaction_df\" DataFrame.\n",
        "- `train_test_split()`: This is a function in the scikit-learn library that splits a dataset into training and testing subsets. The first argument to this function is the feature set \"X\", the second argument is the target variable \"y\", and the remaining arguments specify the parameters for the split. In this case, we specify that 33% of the data should be used for testing and 67% for training, and we set the random_state parameter to 17 to ensure that the split is reproducible.\n",
        "- `X_train, X_test, y_train, y_test`: This line of code assigns the output of the \"train_test_split()\" function to four variables: \"X_train\", \"X_test\", \"y_train\", and \"y_test\". The first two variables contain the training and testing feature sets, respectively, while the last two variables contain the corresponding target variable subsets."
      ],
      "metadata": {
        "id": "kFCPc3QQ9hKe"
      }
    },
    {
      "cell_type": "code",
      "source": [
        "# Initialize and train classifier model\n",
        "classifier = LogisticRegression().fit(X_train, y_train)\n",
        "\n",
        "# Make predictions on test set\n",
        "y_pred = classifier.predict(X_test)"
      ],
      "metadata": {
        "id": "g57d4wu9KUmJ"
      },
      "execution_count": 8,
      "outputs": []
    },
    {
      "cell_type": "markdown",
      "source": [
        "It initialises and trains a logistic regression classifier model using the training subset of a dataset, and then uses the trained model to make predictions on the testing subset.\n",
        "\n",
        "- `classifier = LogisticRegression().fit(X_train, y_train)`: This line of code creates a logistic regression classifier object using the scikit-learn library and fits it to the training feature set and target variable. The LogisticRegression() function initializes a new logistic regression classifier object, and the fit() method trains the classifier using the training feature set X_train and target variable y_train.\n",
        "- `y_pred = classifier.predict(X_test)`: This line of code uses the trained logistic regression classifier model to make predictions on the testing feature set X_test, and assigns the predicted values to a new variable y_pred. The predict() method of the classifier takes as input the feature set X_test, and returns an array of predicted values based on the model's learned parameters."
      ],
      "metadata": {
        "id": "1fkLgeT898_-"
      }
    },
    {
      "cell_type": "code",
      "source": [
        "# Compare test set predictions with ground truth labels\n",
        "print(accuracy_score(y_pred, y_test))\n",
        "print(confusion_matrix(y_test, y_pred))"
      ],
      "metadata": {
        "colab": {
          "base_uri": "https://localhost:8080/"
        },
        "id": "61MdwEtAKXEB",
        "outputId": "5721a0a7-bf8d-45f8-d92e-82ae6d980fa2"
      },
      "execution_count": 9,
      "outputs": [
        {
          "output_type": "stream",
          "name": "stdout",
          "text": [
            "1.0\n",
            "[[12753     0]\n",
            " [    0   190]]\n"
          ]
        }
      ]
    },
    {
      "cell_type": "markdown",
      "source": [
        "It evaluates the performance of the logistic regression model for fraud detection by comparing its predictions with the ground truth labels of a testing subset.\n",
        "\n",
        "- `accuracy_score(y_pred, y_test)`: This line of code computes the accuracy of the model's predictions on the testing feature set X_test by comparing them to the ground truth labels in the testing target variable y_test. The accuracy_score() function from the scikit-learn library takes as input two arrays, y_pred (the predicted values) and y_test (the actual values), and returns a floating-point value between 0 and 1 that represents the percentage of correct predictions made by the model on the testing set.\n",
        "- `confusion_matrix(y_test, y_pred)`: This line of code computes a confusion matrix for the model's predictions on the testing feature set X_test. A confusion matrix is a table that summarizes the performance of a classification model by comparing its predicted labels with the actual labels. The confusion_matrix() function from the scikit-learn library takes as input two arrays, y_test (the actual values) and y_pred (the predicted values), and returns a 2x2 matrix that shows the number of true positives, true negatives, false positives, and false negatives in the predictions."
      ],
      "metadata": {
        "id": "zudj_ck5-UAd"
      }
    },
    {
      "cell_type": "markdown",
      "source": [
        "## Practice task\n",
        "Experiment with different machine learning models: In the lab, we used a logistic regression classifier to detect payment fraud. For homework, you could experiment with other classification models like decision trees, random forests, support vector machines or neural networks. Compare their performance on the testing set using metrics like accuracy, precision, recall and F1 score."
      ],
      "metadata": {
        "id": "hTT2Bo5S-VkF"
      }
    }
  ]
}