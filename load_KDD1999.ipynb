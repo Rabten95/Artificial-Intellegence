{
  "nbformat": 4,
  "nbformat_minor": 0,
  "metadata": {
    "colab": {
      "provenance": [],
      "mount_file_id": "1-ptz8zt3kTSkKvAY8xi280qg1UD-U9T9",
      "authorship_tag": "ABX9TyOSAGsV7qYSv2MTQ3ZtE9f+",
      "include_colab_link": true
    },
    "kernelspec": {
      "name": "python3",
      "display_name": "Python 3"
    },
    "language_info": {
      "name": "python"
    }
  },
  "cells": [
    {
      "cell_type": "markdown",
      "metadata": {
        "id": "view-in-github",
        "colab_type": "text"
      },
      "source": [
        "<a href=\"https://colab.research.google.com/github/mrh-rakib/AI-cybersec/blob/main/load_KDD1999.ipynb\" target=\"_parent\"><img src=\"https://colab.research.google.com/assets/colab-badge.svg\" alt=\"Open In Colab\"/></a>"
      ]
    },
    {
      "cell_type": "markdown",
      "source": [
        "### Load and preprocess the KDD Cup 1999 dataset\n",
        "Download the dataset from [Kaggle](https://www.kaggle.com/datasets/galaxyh/kdd-cup-1999-data?select=kddcup.data_10_percent.gz). Unzip and upload *kddcup.data_10_percent.gz* file into */content* folder of your colab session. Alternatively, download the *.gz* file from LMS and upload into colab."
      ],
      "metadata": {
        "id": "zlmwMkiELaQr"
      }
    },
    {
      "cell_type": "code",
      "execution_count": null,
      "metadata": {
        "id": "d1zUMgXV6WLH"
      },
      "outputs": [],
      "source": [
        "import pandas as pd\n",
        "import numpy as np\n",
        "import matplotlib.pyplot as plt\n",
        "import seaborn as sns"
      ]
    },
    {
      "cell_type": "code",
      "source": [
        "# feature_names found from https://www.kaggle.com/datasets/galaxyh/kdd-cup-1999-data?resource=download&select=kddcup.names\n",
        "feature_names=['duration',\n",
        " 'protocol_type',\n",
        " 'service',\n",
        " 'flag',\n",
        " 'src_bytes',\n",
        " 'dst_bytes',\n",
        " 'land',\n",
        " 'wrong_fragment',\n",
        " 'urgent',\n",
        " 'hot',\n",
        " 'num_failed_logins',\n",
        " 'logged_in',\n",
        " 'num_compromised',\n",
        " 'root_shell',\n",
        " 'su_attempted',\n",
        " 'num_root',\n",
        " 'num_file_creations',\n",
        " 'num_shells',\n",
        " 'num_access_files',\n",
        " 'num_outbound_cmds',\n",
        " 'is_host_login',\n",
        " 'is_guest_login',\n",
        " 'count',\n",
        " 'srv_count',\n",
        " 'serror_rate',\n",
        " 'srv_serror_rate',\n",
        " 'rerror_rate',\n",
        " 'srv_rerror_rate',\n",
        " 'same_srv_rate',\n",
        " 'diff_srv_rate',\n",
        " 'srv_diff_host_rate',\n",
        " 'dst_host_count',\n",
        " 'dst_host_srv_count',\n",
        " 'dst_host_same_srv_rate',\n",
        " 'dst_host_diff_srv_rate',\n",
        " 'dst_host_same_src_port_rate',\n",
        " 'dst_host_srv_diff_host_rate',\n",
        " 'dst_host_serror_rate',\n",
        " 'dst_host_srv_serror_rate',\n",
        " 'dst_host_rerror_rate',\n",
        " 'dst_host_srv_rerror_rate',\n",
        " 'target']\n",
        "\n",
        " # attack_types found from https://www.kaggle.com/datasets/galaxyh/kdd-cup-1999-data?resource=download&select=training_attack_types\n",
        "# dot (.) added with each type to match the dataset\n",
        "attack_types = {\n",
        "    'normal.': 'normal',\n",
        "    'back.': 'dos',\n",
        "    'buffer_overflow.': 'u2r',\n",
        "    'ftp_write.': 'r2l',\n",
        "    'guess_passwd.': 'r2l',\n",
        "    'imap.': 'r2l',\n",
        "    'ipsweep.': 'probe',\n",
        "    'land.': 'dos',\n",
        "    'loadmodule.': 'u2r',\n",
        "    'multihop.': 'r2l',\n",
        "    'neptune.': 'dos',\n",
        "    'nmap.': 'probe',\n",
        "    'perl.': 'u2r',\n",
        "    'phf.': 'r2l',\n",
        "    'pod.': 'dos',\n",
        "    'portsweep.': 'probe',\n",
        "    'rootkit.': 'u2r',\n",
        "    'satan.': 'probe',\n",
        "    'smurf.': 'dos',\n",
        "    'spy.': 'r2l',\n",
        "    'teardrop.': 'dos',\n",
        "    'warezclient.': 'r2l',\n",
        "    'warezmaster.': 'r2l',\n",
        "}"
      ],
      "metadata": {
        "id": "OGX3x5levZkh"
      },
      "execution_count": null,
      "outputs": []
    },
    {
      "cell_type": "code",
      "source": [
        "# Load the dataset\n",
        "df = pd.read_csv(\"kddcup.data_10_percent.gz\", names=feature_names)"
      ],
      "metadata": {
        "id": "MEZ-YCNV6Y7g"
      },
      "execution_count": null,
      "outputs": []
    },
    {
      "cell_type": "code",
      "source": [
        "# adding attack_type column\n",
        "df['attack_type'] = df.target.apply(lambda r:attack_types[r])\n",
        "\n",
        "df.drop(['target'],axis=1,inplace=True)"
      ],
      "metadata": {
        "id": "PB-yUPMbtriZ"
      },
      "execution_count": null,
      "outputs": []
    },
    {
      "cell_type": "code",
      "source": [
        "df = df[[col for col in df if df[col].nunique()>1]] # keep columns where there are more than 1 unique values"
      ],
      "metadata": {
        "id": "3cjeZlNo4QFS"
      },
      "execution_count": null,
      "outputs": []
    },
    {
      "cell_type": "code",
      "source": [
        "# num_root is highly correlated with num_compromised and should be ignored for analysis.\n",
        "df.drop('num_root',axis = 1,inplace = True) # axis=1 specifies that we want to drop the columns axis\n",
        "\n",
        "# srv_serror_rate is highly correlated with serror_rate and should be ignored for analysis.\n",
        "df.drop('srv_serror_rate',axis = 1,inplace = True)\n",
        "\n",
        "# srv_rerror_rate is highly correlated with rerror_rate and should be ignored for analysis.\n",
        "df.drop('srv_rerror_rate',axis = 1, inplace=True)\n",
        "\n",
        "# dst_host_srv_serror_rate is highly correlated with srv_serror_rate and should be ignored for analysis.\n",
        "df.drop('dst_host_srv_serror_rate',axis = 1, inplace=True)\n",
        "\n",
        "# dst_host_serror_rate is highly correlated with rerror_rate and should be ignored for analysis.\n",
        "df.drop('dst_host_serror_rate',axis = 1, inplace=True)\n",
        "\n",
        "# dst_host_rerror_rate is highly correlated with srv_rerror_rate and should be ignored for analysis.\n",
        "df.drop('dst_host_rerror_rate',axis = 1, inplace=True)\n",
        "\n",
        "# dst_host_srv_rerror_rate is highly correlated with rerror_rate and should be ignored for analysis.\n",
        "df.drop('dst_host_srv_rerror_rate',axis = 1, inplace=True)\n",
        "\n",
        "# dst_host_same_srv_rate is highly correlated with dst_host_srv_count and should be ignored for analysis.\n",
        "df.drop('dst_host_same_srv_rate',axis = 1, inplace=True)\n",
        "\n",
        "# srv_count is highly correlated with count and should be ignored for analysis.\n",
        "df.drop('srv_count',axis = 1, inplace=True)"
      ],
      "metadata": {
        "id": "Qo9rll564AEZ"
      },
      "execution_count": null,
      "outputs": []
    },
    {
      "cell_type": "code",
      "source": [
        "pmap = {\"icmp\":0,\"tcp\":1,\"udp\":2}\n",
        "df['protocol_type'] = df['protocol_type'].map(pmap)\n",
        "\n",
        "#flag feature mapping\n",
        "fmap = {'SF':0,'S0':1,'REJ':2,'RSTR':3,'RSTO':4,'SH':5 ,'S1':6 ,'S2':7,'RSTOS0':8,'S3':9 ,'OTH':10}\n",
        "df['flag'] = df['flag'].map(fmap)\n",
        "\n",
        "#attack type feature mapping\n",
        "amap = {'dos':0,'normal':1,'probe':2,'r2l':3,'u2r':4}\n",
        "df['attack_type'] = df['attack_type'].map(amap)\n",
        "\n",
        "df.drop('service',axis = 1,inplace= True)"
      ],
      "metadata": {
        "id": "kdNCXqJ57Rm0"
      },
      "execution_count": null,
      "outputs": []
    },
    {
      "cell_type": "code",
      "source": [
        "from sklearn.preprocessing import MinMaxScaler"
      ],
      "metadata": {
        "id": "EEnGtvARC0mD"
      },
      "execution_count": null,
      "outputs": []
    },
    {
      "cell_type": "code",
      "source": [
        "y = df[['attack_type']]\n",
        "X = df.drop(['attack_type'],axis=1)"
      ],
      "metadata": {
        "id": "kDUtL1xHC5WK"
      },
      "execution_count": null,
      "outputs": []
    },
    {
      "cell_type": "code",
      "source": [
        "scaler = MinMaxScaler() #  MinMaxScaler scales the data to a fixed range (by default, between 0 and 1) by subtracting the minimum value and dividing by the range of the data.\n",
        "X = scaler.fit_transform(X)"
      ],
      "metadata": {
        "id": "Vg2-NCqbC6am"
      },
      "execution_count": null,
      "outputs": []
    },
    {
      "cell_type": "code",
      "source": [
        "from sklearn.model_selection import train_test_split"
      ],
      "metadata": {
        "id": "YFa5seVoGcDi"
      },
      "execution_count": null,
      "outputs": []
    },
    {
      "cell_type": "code",
      "source": [
        "# Split test and train data \n",
        "X_train, X_test, y_train, y_test = train_test_split(X, y, test_size=0.33, random_state=42)\n",
        "print(\"Loaded \\\"X_train\\\" and \\\"X_test\\\" with shapes:\")\n",
        "print(X_train.shape, X_test.shape)\n",
        "print(\"\\nLoaded \\\"y_train\\\" and \\\"y_test\\\" with shapes:\")\n",
        "print(y_train.shape, y_test.shape)"
      ],
      "metadata": {
        "id": "WzX_i4LxC_fK"
      },
      "execution_count": null,
      "outputs": []
    },
    {
      "cell_type": "markdown",
      "source": [
        "NB: Parts of this program is taken and improved from https://www.kaggle.com/code/iamyajat/intrusion-detection-system-using-neural-networks, which has been released under the Apache 2.0 open source license"
      ],
      "metadata": {
        "id": "0vsVxWZoPzeq"
      }
    }
  ]
}